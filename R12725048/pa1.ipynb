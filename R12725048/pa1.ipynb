{
 "cells": [
  {
   "cell_type": "code",
   "execution_count": 98,
   "metadata": {},
   "outputs": [
    {
     "name": "stdout",
     "output_type": "stream",
     "text": [
      "Requirement already satisfied: requests in c:\\users\\ap665\\appdata\\roaming\\python\\python39\\site-packages (2.25.1)Note: you may need to restart the kernel to use updated packages.\n"
     ]
    },
    {
     "name": "stderr",
     "output_type": "stream",
     "text": [
      "WARNING: You are using pip version 22.0.3; however, version 23.2.1 is available.\n",
      "You should consider upgrading via the 'C:\\Users\\ap665\\AppData\\Local\\Programs\\Python\\Python39\\python.exe -m pip install --upgrade pip' command.\n"
     ]
    },
    {
     "name": "stdout",
     "output_type": "stream",
     "text": [
      "\n",
      "Requirement already satisfied: idna<3,>=2.5 in c:\\users\\ap665\\appdata\\roaming\\python\\python39\\site-packages (from requests) (2.10)\n",
      "Requirement already satisfied: certifi>=2017.4.17 in c:\\users\\ap665\\appdata\\roaming\\python\\python39\\site-packages (from requests) (2021.5.30)\n",
      "Requirement already satisfied: urllib3<1.27,>=1.21.1 in c:\\users\\ap665\\appdata\\roaming\\python\\python39\\site-packages (from requests) (1.25.11)\n",
      "Requirement already satisfied: chardet<5,>=3.0.2 in c:\\users\\ap665\\appdata\\roaming\\python\\python39\\site-packages (from requests) (4.0.0)\n"
     ]
    }
   ],
   "source": [
    "pip install requests"
   ]
  },
  {
   "cell_type": "code",
   "execution_count": 99,
   "metadata": {},
   "outputs": [
    {
     "data": {
      "text/plain": [
       "\"And Yugoslav authorities are planning the arrest of eleven coal miners \\r\\nand two opposition politicians on suspicion of sabotage, that's in \\r\\nconnection with strike action against President Slobodan Milosevic. \\r\\nYou are listening to BBC news for The World.\""
      ]
     },
     "execution_count": 99,
     "metadata": {},
     "output_type": "execute_result"
    }
   ],
   "source": [
    "import requests\n",
    "\n",
    "file_url = 'https://ceiba.ntu.edu.tw/course/35d27d/content/28.txt'\n",
    "response = requests.get(file_url)\n",
    "\n",
    "str = response.text\n",
    "str"
   ]
  },
  {
   "cell_type": "code",
   "execution_count": 100,
   "metadata": {},
   "outputs": [
    {
     "data": {
      "text/plain": [
       "['and',\n",
       " 'yugoslav',\n",
       " 'authorities',\n",
       " 'are',\n",
       " 'planning',\n",
       " 'the',\n",
       " 'arrest',\n",
       " 'of',\n",
       " 'eleven',\n",
       " 'coal',\n",
       " 'miners',\n",
       " 'and',\n",
       " 'two',\n",
       " 'opposition',\n",
       " 'politicians',\n",
       " 'on',\n",
       " 'suspicion',\n",
       " 'of',\n",
       " 'sabotage',\n",
       " 'that',\n",
       " 'in',\n",
       " 'connection',\n",
       " 'with',\n",
       " 'strike',\n",
       " 'action',\n",
       " 'against',\n",
       " 'president',\n",
       " 'slobodan',\n",
       " 'milosevic',\n",
       " 'you',\n",
       " 'are',\n",
       " 'listening',\n",
       " 'to',\n",
       " 'bbc',\n",
       " 'news',\n",
       " 'for',\n",
       " 'the',\n",
       " 'world']"
      ]
     },
     "execution_count": 100,
     "metadata": {},
     "output_type": "execute_result"
    }
   ],
   "source": [
    "str = str.replace(',', '').replace('\\n','').replace('\\r','').replace('.','').replace(\"'s\",\"\")\n",
    "str = str.lower()\n",
    "token = str.split(' ')\n",
    "token"
   ]
  },
  {
   "cell_type": "code",
   "execution_count": 101,
   "metadata": {},
   "outputs": [
    {
     "name": "stdout",
     "output_type": "stream",
     "text": [
      "Note: you may need to restart the kernel to use updated packages.\n"
     ]
    },
    {
     "name": "stderr",
     "output_type": "stream",
     "text": [
      "WARNING: You are using pip version 22.0.3; however, version 23.2.1 is available.\n",
      "You should consider upgrading via the 'C:\\Users\\ap665\\AppData\\Local\\Programs\\Python\\Python39\\python.exe -m pip install --upgrade pip' command.\n"
     ]
    },
    {
     "name": "stdout",
     "output_type": "stream",
     "text": [
      "Requirement already satisfied: nltk in c:\\users\\ap665\\appdata\\local\\programs\\python\\python39\\lib\\site-packages (3.8.1)\n",
      "Requirement already satisfied: click in c:\\users\\ap665\\appdata\\local\\programs\\python\\python39\\lib\\site-packages (from nltk) (7.1.2)\n",
      "Requirement already satisfied: regex>=2021.8.3 in c:\\users\\ap665\\appdata\\local\\programs\\python\\python39\\lib\\site-packages (from nltk) (2023.8.8)\n",
      "Requirement already satisfied: tqdm in c:\\users\\ap665\\appdata\\local\\programs\\python\\python39\\lib\\site-packages (from nltk) (4.66.1)\n",
      "Requirement already satisfied: joblib in c:\\users\\ap665\\appdata\\local\\programs\\python\\python39\\lib\\site-packages (from nltk) (1.1.0)\n",
      "Requirement already satisfied: colorama in c:\\users\\ap665\\appdata\\roaming\\python\\python39\\site-packages (from tqdm->nltk) (0.4.3)\n"
     ]
    }
   ],
   "source": [
    "pip install nltk"
   ]
  },
  {
   "cell_type": "code",
   "execution_count": 102,
   "metadata": {},
   "outputs": [],
   "source": [
    "from nltk.stem import PorterStemmer\n",
    "ps = PorterStemmer()\n",
    "stemming_word = []\n",
    "for word in token:\n",
    "    stemming_word.append(ps.stem(word))"
   ]
  },
  {
   "cell_type": "code",
   "execution_count": 103,
   "metadata": {},
   "outputs": [],
   "source": [
    "stopwords = ['and', 'are', 'the', 'of', 'on', 'of', 'in', 'that', 'with', 'for', 'to']\n",
    "filtered_words = [word for word in stemming_word if word not in stopwords] "
   ]
  },
  {
   "cell_type": "code",
   "execution_count": 104,
   "metadata": {},
   "outputs": [
    {
     "data": {
      "text/plain": [
       "'yugoslav author plan arrest eleven coal miner two opposit politician suspicion sabotag connect strike action against presid slobodan milosev you listen bbc news world'"
      ]
     },
     "execution_count": 104,
     "metadata": {},
     "output_type": "execute_result"
    }
   ],
   "source": [
    "result = ' '.join(filtered_words)\n",
    "result"
   ]
  },
  {
   "cell_type": "code",
   "execution_count": 105,
   "metadata": {},
   "outputs": [
    {
     "data": {
      "text/plain": [
       "166"
      ]
     },
     "execution_count": 105,
     "metadata": {},
     "output_type": "execute_result"
    }
   ],
   "source": [
    "path = 'result.txt'\n",
    "f = open(path, 'w')\n",
    "f.write(result)"
   ]
  }
 ],
 "metadata": {
  "interpreter": {
   "hash": "dbabd285637061bdd0acec5343deb00cb23b1b124c504a4924603b523db363fd"
  },
  "kernelspec": {
   "display_name": "Python 3.9.5 64-bit",
   "language": "python",
   "name": "python3"
  },
  "language_info": {
   "codemirror_mode": {
    "name": "ipython",
    "version": 3
   },
   "file_extension": ".py",
   "mimetype": "text/x-python",
   "name": "python",
   "nbconvert_exporter": "python",
   "pygments_lexer": "ipython3",
   "version": "3.9.5"
  },
  "orig_nbformat": 4
 },
 "nbformat": 4,
 "nbformat_minor": 2
}
